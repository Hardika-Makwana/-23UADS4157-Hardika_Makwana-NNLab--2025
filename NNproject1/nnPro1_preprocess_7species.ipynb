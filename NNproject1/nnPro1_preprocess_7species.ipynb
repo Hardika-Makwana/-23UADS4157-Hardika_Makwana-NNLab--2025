{
 "cells": [
  {
   "cell_type": "code",
   "execution_count": 2,
   "id": "c4e44065-5811-4f5a-8e38-f91f3ea81494",
   "metadata": {},
   "outputs": [
    {
     "name": "stdout",
     "output_type": "stream",
     "text": [
      " Thresholding + 3 Rotations × 2 Contrast Levels (Total 6 images per input image).\n"
     ]
    }
   ],
   "source": [
    "import os\n",
    "import cv2\n",
    "import numpy as np\n",
    "\n",
    "# Corrected Paths\n",
    "input_base = r\"C:\\Users\\Hardika\\Desktop\\NNpro1_7species\\Original_nnpro_7\"\n",
    "output_base = r\"C:\\Users\\Hardika\\Desktop\\NNpro1_7species\\thresholded_7\"\n",
    "\n",
    "# Create output base folder if it doesn't exist\n",
    "os.makedirs(output_base, exist_ok=True)\n",
    "\n",
    "# Define rotation angles and two contrast factors\n",
    "rotation_angles = [0, 90, 180]\n",
    "contrast_factors = [1.0, 1.3]  # original contrast + 1 new contrast\n",
    "\n",
    "# Loop over each species folder\n",
    "for species_folder in os.listdir(input_base):\n",
    "    species_input_path = os.path.join(input_base, species_folder)\n",
    "    species_output_path = os.path.join(output_base, species_folder)\n",
    "\n",
    "    if not os.path.isdir(species_input_path):\n",
    "        continue  # Skip if not a folder\n",
    "\n",
    "    os.makedirs(species_output_path, exist_ok=True)\n",
    "\n",
    "    # Loop through each image in the species folder\n",
    "    for img_file in os.listdir(species_input_path):\n",
    "        img_path = os.path.join(species_input_path, img_file)\n",
    "        img_name = os.path.splitext(img_file)[0]\n",
    "\n",
    "        # Read as grayscale\n",
    "        image = cv2.imread(img_path, cv2.IMREAD_GRAYSCALE)\n",
    "        if image is None:\n",
    "            print(f\"Skipping unreadable image: {img_path}\")\n",
    "            continue\n",
    "\n",
    "        # Resize to 256x256\n",
    "        image_resized = cv2.resize(image, (256, 256))\n",
    "\n",
    "        # Apply adaptive Gaussian thresholding\n",
    "        image_thresh = cv2.adaptiveThreshold(\n",
    "            image_resized, 255, cv2.ADAPTIVE_THRESH_GAUSSIAN_C,\n",
    "            cv2.THRESH_BINARY, 11, 2\n",
    "        )\n",
    "\n",
    "        # Apply all rotations and both contrast levels\n",
    "        for angle in rotation_angles:\n",
    "            if angle == 0:\n",
    "                rotated = image_thresh.copy()\n",
    "            elif angle == 90:\n",
    "                rotated = cv2.rotate(image_thresh, cv2.ROTATE_90_CLOCKWISE)\n",
    "            elif angle == 180:\n",
    "                rotated = cv2.rotate(image_thresh, cv2.ROTATE_180)\n",
    "\n",
    "            for contrast in contrast_factors:\n",
    "                adjusted = cv2.convertScaleAbs(rotated, alpha=contrast, beta=0)\n",
    "                aug_filename = f\"{img_name}_rot{angle}_c{str(contrast).replace('.', '')}.jpg\"\n",
    "                aug_path = os.path.join(species_output_path, aug_filename)\n",
    "                cv2.imwrite(aug_path, adjusted)\n",
    "\n",
    "print(\" Thresholding + 3 Rotations × 2 Contrast Levels (Total 6 images per input image).\")\n",
    "\n",
    "\n"
   ]
  },
  {
   "cell_type": "code",
   "execution_count": null,
   "id": "6ae77091-cc20-411d-b295-6bd39d755768",
   "metadata": {},
   "outputs": [],
   "source": []
  }
 ],
 "metadata": {
  "kernelspec": {
   "display_name": "Python 3 (ipykernel)",
   "language": "python",
   "name": "python3"
  },
  "language_info": {
   "codemirror_mode": {
    "name": "ipython",
    "version": 3
   },
   "file_extension": ".py",
   "mimetype": "text/x-python",
   "name": "python",
   "nbconvert_exporter": "python",
   "pygments_lexer": "ipython3",
   "version": "3.10.8"
  }
 },
 "nbformat": 4,
 "nbformat_minor": 5
}
