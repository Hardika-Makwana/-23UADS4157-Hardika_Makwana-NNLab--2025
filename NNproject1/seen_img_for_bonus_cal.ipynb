{
 "cells": [
  {
   "cell_type": "code",
   "execution_count": 2,
   "id": "5ed3a655-5807-4c3e-999c-3789422b749e",
   "metadata": {},
   "outputs": [
    {
     "name": "stdout",
     "output_type": "stream",
     "text": [
      "1200 images copied to 'C:\\Users\\Hardika\\Desktop\\NNpro1_7species\\seen_leaves'.\n"
     ]
    }
   ],
   "source": [
    "import os\n",
    "import random\n",
    "import shutil\n",
    "\n",
    "# Function to create seen folder from 5 input folders\n",
    "def create_seen_folder(input_folders, output_folder, total_images=1200):\n",
    "    os.makedirs(output_folder, exist_ok=True)\n",
    "\n",
    "    all_images = []\n",
    "    for folder in input_folders:\n",
    "        folder_images = [os.path.join(folder, fname) for fname in os.listdir(folder) if fname.lower().endswith(('.png', '.jpg', '.jpeg'))]\n",
    "        all_images.extend(folder_images)\n",
    "\n",
    "    if len(all_images) < total_images:\n",
    "        raise ValueError(f\"Not enough total images across folders ({len(all_images)} found, {total_images} needed).\")\n",
    "\n",
    "    selected_images = random.sample(all_images, total_images)\n",
    "\n",
    "    for i, img_path in enumerate(selected_images):\n",
    "        ext = os.path.splitext(img_path)[-1]\n",
    "        dst_filename = f\"seen_{i+1:04d}{ext}\"\n",
    "        shutil.copy(img_path, os.path.join(output_folder, dst_filename))\n",
    "\n",
    "    print(f\"{total_images} images copied to '{output_folder}'.\")\n",
    "\n",
    "# Set your input folder paths\n",
    "folder1 = r\"C:\\Users\\Hardika\\Desktop\\NNpro1_7species\\Dataset_nnpro1_modified_7\\Test_sp7\\Jamun_7\"\n",
    "folder2 = r\"C:\\Users\\Hardika\\Desktop\\NNpro1_7species\\Dataset_nnpro1_modified_7\\Train_sp7\\neem_7\"\n",
    "folder3 = r\"C:\\Users\\Hardika\\Desktop\\NNpro1_7species\\Dataset_nnpro1_modified_7\\Train_sp7\\Mango_7\"\n",
    "folder4 = r\"C:\\Users\\Hardika\\Desktop\\NNpro1_7species\\Dataset_nnpro1_modified_7\\Train_sp7\\paper_flower_7\"\n",
    "folder5 = r\"C:\\Users\\Hardika\\Desktop\\NNpro1_7species\\Dataset_nnpro1_modified_7\\Train_sp7\\Lily(Nagdamani)_7\"\n",
    "\n",
    "# Define output folder path for seen images\n",
    "output_folder = r\"C:\\Users\\Hardika\\Desktop\\NNpro1_7species\\seen_leaves\"\n",
    "\n",
    "# List of input folders\n",
    "input_folders = [folder1, folder2, folder3, folder4, folder5]\n",
    "\n",
    "# Create seen folder\n",
    "create_seen_folder(input_folders, output_folder)\n"
   ]
  },
  {
   "cell_type": "code",
   "execution_count": null,
   "id": "5100a3de-2ec8-4ed4-a30d-e546a5075660",
   "metadata": {},
   "outputs": [],
   "source": []
  }
 ],
 "metadata": {
  "kernelspec": {
   "display_name": "Python 3 (ipykernel)",
   "language": "python",
   "name": "python3"
  },
  "language_info": {
   "codemirror_mode": {
    "name": "ipython",
    "version": 3
   },
   "file_extension": ".py",
   "mimetype": "text/x-python",
   "name": "python",
   "nbconvert_exporter": "python",
   "pygments_lexer": "ipython3",
   "version": "3.10.8"
  }
 },
 "nbformat": 4,
 "nbformat_minor": 5
}
