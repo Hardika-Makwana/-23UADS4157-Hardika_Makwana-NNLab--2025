{
 "cells": [
  {
   "cell_type": "code",
   "execution_count": 13,
   "id": "0ae42ad3-5867-45f2-bb4a-ab2098fd96c9",
   "metadata": {},
   "outputs": [
    {
     "name": "stdout",
     "output_type": "stream",
     "text": [
      " Done: binary masks with white bg, black leaf, white veins, noise removed.\n"
     ]
    }
   ],
   "source": [
    "import os\n",
    "import cv2\n",
    "import numpy as np\n",
    "\n",
    "# Paths\n",
    "input_base  = r\"C:\\Users\\Hardika\\Desktop\\NNpro1_7species\\Original_nnpro_7\"\n",
    "output_base = r\"C:\\Users\\Hardika\\Desktop\\NNpro1_7species\\thresh_contour_7sp\"\n",
    "os.makedirs(output_base, exist_ok=True)\n",
    "\n",
    "# Augment settings\n",
    "rotation_angles   = [0, 90, 180]\n",
    "contrast_factors  = [1.0, 1.3]\n",
    "\n",
    "for species in os.listdir(input_base):\n",
    "    in_dir  = os.path.join(input_base, species)\n",
    "    out_dir = os.path.join(output_base, species)\n",
    "    if not os.path.isdir(in_dir): continue\n",
    "    os.makedirs(out_dir, exist_ok=True)\n",
    "\n",
    "    for fname in os.listdir(in_dir):\n",
    "        # 1) load & resize\n",
    "        img = cv2.imread(os.path.join(in_dir, fname), cv2.IMREAD_GRAYSCALE)\n",
    "        if img is None: continue\n",
    "        img = cv2.resize(img, (256,256))\n",
    "\n",
    "        # 2) your adaptive threshold (leaf = 0, bg+veins = 255)\n",
    "        th = cv2.adaptiveThreshold(\n",
    "            img, 255,\n",
    "            cv2.ADAPTIVE_THRESH_GAUSSIAN_C,\n",
    "            cv2.THRESH_BINARY,\n",
    "            11, 2\n",
    "        )\n",
    "\n",
    "        # 3) invert for contour-detection (leaf=255, bg+veins=0)\n",
    "        inv = cv2.bitwise_not(th)\n",
    "\n",
    "        # 4) find & fill only large contours (the leaf)\n",
    "        cnts, _ = cv2.findContours(inv, cv2.RETR_EXTERNAL, cv2.CHAIN_APPROX_SIMPLE)\n",
    "        leaf_mask = np.zeros_like(th)\n",
    "        for c in cnts:\n",
    "            if cv2.contourArea(c) > 500:               # tune this threshold to your leaves\n",
    "                cv2.drawContours(leaf_mask,[c],-1,255,-1)\n",
    "\n",
    "        # 5) invert leaf_mask → background=255, leaf=0\n",
    "        leaf_mask_inv = cv2.bitwise_not(leaf_mask)\n",
    "\n",
    "        # 6) combine with original threshold to keep veins but remove noise\n",
    "        #    background stays white (255), leaf body stays black (0), veins stay white (255)\n",
    "        clean = cv2.bitwise_or(th, leaf_mask_inv)\n",
    "\n",
    "        # 7) augment: rotations + contrast\n",
    "        for angle in rotation_angles:\n",
    "            if angle == 90:   aug = cv2.rotate(clean, cv2.ROTATE_90_CLOCKWISE)\n",
    "            elif angle == 180: aug = cv2.rotate(clean, cv2.ROTATE_180)\n",
    "            else:              aug = clean.copy()\n",
    "\n",
    "            for cf in contrast_factors:\n",
    "                out = cv2.convertScaleAbs(aug, alpha=cf, beta=0)\n",
    "                name, _ = os.path.splitext(fname)\n",
    "                save_path = os.path.join(out_dir, f\"{name}_r{angle}_c{str(cf).replace('.','')}.jpg\")\n",
    "                cv2.imwrite(save_path, out)\n",
    "\n",
    "print(\" Done: binary masks with white bg, black leaf, white veins, noise removed.\") \n"
   ]
  },
  {
   "cell_type": "code",
   "execution_count": null,
   "id": "175df61a-d1cd-4448-8416-ba1f49f0a469",
   "metadata": {},
   "outputs": [],
   "source": []
  }
 ],
 "metadata": {
  "kernelspec": {
   "display_name": "Python 3 (ipykernel)",
   "language": "python",
   "name": "python3"
  },
  "language_info": {
   "codemirror_mode": {
    "name": "ipython",
    "version": 3
   },
   "file_extension": ".py",
   "mimetype": "text/x-python",
   "name": "python",
   "nbconvert_exporter": "python",
   "pygments_lexer": "ipython3",
   "version": "3.10.8"
  }
 },
 "nbformat": 4,
 "nbformat_minor": 5
}
