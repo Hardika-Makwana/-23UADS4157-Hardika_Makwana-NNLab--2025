{
 "cells": [
  {
   "cell_type": "code",
   "execution_count": 3,
   "id": "580b4315-4d86-438c-9545-8e429a8d1205",
   "metadata": {},
   "outputs": [
    {
     "ename": "SyntaxError",
     "evalue": "'(' was never closed (3496102542.py, line 31)",
     "output_type": "error",
     "traceback": [
      "\u001b[1;36m  Cell \u001b[1;32mIn[3], line 31\u001b[1;36m\u001b[0m\n\u001b[1;33m    W1 += learning_rate * (np.dot(W2.T, (y_sample - final_output)) * x_sample.T\u001b[0m\n\u001b[1;37m                          ^\u001b[0m\n\u001b[1;31mSyntaxError\u001b[0m\u001b[1;31m:\u001b[0m '(' was never closed\n"
     ]
    }
   ],
   "source": [
    "import numpy as np\n",
    "\n",
    "def step_function(x):\n",
    "    return np.where(x >= 0, 1, 0)\n",
    "\n",
    "def train_mlp(X, y, hidden_neurons=4, epochs=4, learning_rate=0.1):\n",
    "    input_size = X.shape[1]\n",
    "    output_neurons = 1\n",
    "     \n",
    "    # Initialising weights and biases values randomly\n",
    "    W1 = np.random.uniform(-1, 1, (hidden_neurons, input_size))\n",
    "    b1 = np.random.uniform(-1, 1, (hidden_neurons, 1))\n",
    "    W2 = np.random.uniform(-1, 1, (output_neurons, hidden_neurons))\n",
    "    b2 = np.random.uniform(-1, 1, (output_neurons, 1))\n",
    "    \n",
    "    for epoch in range(epochs):\n",
    "        for i in range(X.shape[0]):\n",
    "            x_sample = X[i].reshape(-1, 1)\n",
    "            y_sample = y[i]\n",
    "            \n",
    "            # Forward pass\n",
    "            hidden_input = np.dot(W1, x_sample) + b1\n",
    "            hidden_output = step_function(hidden_input)\n",
    "            final_input = np.dot(W2, hidden_output) + b2\n",
    "            final_output = step_function(final_input)\n",
    "            \n",
    "            # Weight and bias update when prediction is incorrect\n",
    "            if final_output != y_sample:\n",
    "                \n",
    "                W2 += learning_rate * (y_sample - final_output) * hidden_output.T\n",
    "                b2 += learning_rate * (y_sample - final_output)\n",
    "                W1 += learning_rate * np.dot(W2.T, (y_sample - final_output)) * x_sample.T\n",
    "                b1 += learning_rate * (y_sample - final_output)\n",
    "    \n",
    "    return W1, b1, W2, b2\n",
    "\n",
    "def predict(X, W1, b1, W2, b2):\n",
    "    hidden_input = np.dot(W1, X.T) + b1\n",
    "    hidden_output = step_function(hidden_input)\n",
    "    final_input = np.dot(W2, hidden_output) + b2\n",
    "    final_output = step_function(final_input)\n",
    "    return final_output.T\n",
    "\n",
    "def accuracy(y_true, y_pred):\n",
    "    return np.mean(y_true == y_pred) * 100\n",
    "\n",
    "# XOR dataset\n",
    "X = np.array([[0, 0], [0, 1], [1, 0], [1, 1]])\n",
    "y = np.array([[0], [1], [1], [0]])\n",
    "\n",
    "# Training the MLP\n",
    "W1, b1, W2, b2 = train_mlp(X, y, hidden_neurons=4)\n",
    "\n",
    "# Make predictions\n",
    "y_pred = predict(X, W1, b1, W2, b2)\n",
    "\n",
    "# Calculation of accuracy\n",
    "acc = accuracy(y, y_pred)\n",
    "\n",
    "# Printing results\n",
    "print(\"Predictions:\", y_pred.flatten())\n",
    "print(f\"Accuracy: {acc:.2f}%\")"
   ]
  },
  {
   "cell_type": "code",
   "execution_count": null,
   "id": "bda4c003-f577-4d37-ae62-473a16a4de11",
   "metadata": {},
   "outputs": [],
   "source": []
  },
  {
   "cell_type": "code",
   "execution_count": null,
   "id": "5859fbe6-24a7-4cba-b3f4-36c9c270685c",
   "metadata": {},
   "outputs": [],
   "source": []
  }
 ],
 "metadata": {
  "kernelspec": {
   "display_name": "Python 3 (ipykernel)",
   "language": "python",
   "name": "python3"
  },
  "language_info": {
   "codemirror_mode": {
    "name": "ipython",
    "version": 3
   },
   "file_extension": ".py",
   "mimetype": "text/x-python",
   "name": "python",
   "nbconvert_exporter": "python",
   "pygments_lexer": "ipython3",
   "version": "3.10.8"
  }
 },
 "nbformat": 4,
 "nbformat_minor": 5
}
