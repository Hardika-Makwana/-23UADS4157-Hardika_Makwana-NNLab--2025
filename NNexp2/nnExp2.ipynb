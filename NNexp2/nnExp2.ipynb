{
 "cells": [
  {
   "cell_type": "markdown",
   "id": "33641c81-7ece-443f-a6ba-48cc71a5e1b4",
   "metadata": {},
   "source": [
    "EXPERIMENT 2\n",
    "\n",
    "OBJECTIVE - WAP to implement a multi-layer perceptron (MLP) network with one hidden layer\n",
    "using numpy in Python. Demonstrate that it can learn the XOR Boolean function."
   ]
  },
  {
   "cell_type": "markdown",
   "id": "d2fb4b3c-d0b3-42a5-9931-e39aafbbbe1d",
   "metadata": {},
   "source": [
    "DESCRIPTION OF MODEL\n",
    "\n",
    "- Model implements a Multi Layer Perceptron Network(MLP) to be able to learn non-linear  XOR Boolen function.\n",
    "- Input Layer: Consists of 2 binary inputs \n",
    "- Hidden Layer: Single hidden layer.It consists of 4 Perceptrons.\n",
    "- Output layer: Consists of single Perceptron.\n",
    "- Activation Function: Step function (1 if x >= 0 else 0).\n",
    "- error = y_true - y_pred.\n",
    "- Learning Rule: Perceptron update rule: 𝑊new=𝑊old + learning rate×error × 𝑋i.\n",
    "- Training Strategy: Iterates over the dataset for a fixed number of epochs, weights and biases are updated when an incorrect prediction is made.\n",
    "- hidden_neurons= 4, epochs=50, learning_rate=0.1\n",
    "-  XOR dataset :X = np.array([[0, 0], [0, 1], [1, 0], [1, 1]]) , y = np.array([[0], [1], [1], [0]])\n",
    "-  input_size=2 , hidden_neurons= 4 , output_neurons= 1\n",
    "\n",
    "\n",
    "\n",
    "PYTHON IMPLEMENTATION :"
   ]
  },
  {
   "cell_type": "code",
   "execution_count": 1,
   "id": "f9e6a567-bf3f-4fad-9b8b-27b9ea4edbfa",
   "metadata": {},
   "outputs": [
    {
     "name": "stdout",
     "output_type": "stream",
     "text": [
      "Predictions: [0 1 1 0]\n",
      "Accuracy: 100.00%\n"
     ]
    }
   ],
   "source": [
    " \n",
    "\n",
    "import numpy as np\n",
    "\n",
    "def step_function(x):\n",
    "    return np.where(x >= 0, 1, 0)\n",
    "\n",
    "def train_mlp(X, y, hidden_neurons=4, epochs=10, learning_rate=0.1):\n",
    "    input_size = X.shape[1]\n",
    "    output_neurons = 1\n",
    "     \n",
    "    # Initialising weights and biases values randomly\n",
    "    W1 = np.random.uniform(-1, 1, (hidden_neurons, input_size))\n",
    "    b1 = np.random.uniform(-1, 1, (hidden_neurons, 1))\n",
    "    W2 = np.random.uniform(-1, 1, (output_neurons, hidden_neurons))\n",
    "    b2 = np.random.uniform(-1, 1, (output_neurons, 1))\n",
    "    \n",
    "    for epoch in range(epochs):\n",
    "        for i in range(X.shape[0]):\n",
    "            x_sample = X[i].reshape(-1, 1)\n",
    "            y_sample = y[i]\n",
    "            \n",
    "            # Forward pass\n",
    "            hidden_input = np.dot(W1, x_sample) + b1\n",
    "            hidden_output = step_function(hidden_input)\n",
    "            final_input = np.dot(W2, hidden_output) + b2\n",
    "            final_output = step_function(final_input)\n",
    "\n",
    "            # Weight and bias update when prediction is incorrect\n",
    "            error = y_sample- final_output\n",
    "            # Random weight update rule\n",
    "            if final_output != y_sample:\n",
    "                error_w1 = np.dot(W2.T,error)\n",
    "                W1 += learning_rate * (error_w1) * x_sample.T\n",
    "                b1 += learning_rate * (error)\n",
    "                W2 += learning_rate * (error) * hidden_output.T\n",
    "                b2 += learning_rate * (error)\n",
    "                \n",
    "    \n",
    "    return W1, b1, W2, b2\n",
    "\n",
    "def predict(X, W1, b1, W2, b2):\n",
    "    hidden_input = np.dot(W1, X.T) + b1\n",
    "    hidden_output = step_function(hidden_input)\n",
    "    final_input = np.dot(W2, hidden_output) + b2\n",
    "    final_output = step_function(final_input)\n",
    "    return final_output.T\n",
    "\n",
    "def accuracy(y_true, y_pred):\n",
    "    return np.mean(y_true == y_pred) * 100\n",
    "\n",
    "# XOR dataset\n",
    "X = np.array([[0, 0], [0, 1], [1, 0], [1, 1]])\n",
    "y = np.array([[0], [1], [1], [0]])\n",
    "\n",
    "# Training the MLP\n",
    "W1, b1, W2, b2 = train_mlp(X, y, hidden_neurons=4)\n",
    "\n",
    "# Make predictions\n",
    "\n",
    "y_pred = predict(X, W1, b1, W2, b2)\n",
    "\n",
    "# Calculation of accuracy\n",
    "acc = accuracy(y, y_pred)\n",
    "\n",
    "# Printing results\n",
    "print(\"Predictions:\", y_pred.flatten())\n",
    "print(f\"Accuracy: {acc:.2f}%\")\n"
   ]
  },
  {
   "cell_type": "markdown",
   "id": "aaab60dc-a0f8-42ab-95fa-8bb2a3220107",
   "metadata": {},
   "source": [
    "DESCRIPTION OF CODE\n",
    "- Activation function(step function) --> step_function which return 1 if x>=0 else 0\n",
    "- Function to train model --> train_mlp which set input-size(2) according to dataset(number of columns =2),assign random values to weight and bias\n",
    "  between (-1 and 1 , uniform ) and every value will have same probability of being chosen W1(4,2) b1(4,1) W2(1,4) b2(1,1). Returns values           W12,W2,b1,b2.\n",
    "- Epochs--> 10000 times model will iterate through the whole dataset , one by one taking each row of dataset with input x values and checking output y .x_sample(2,1) . Hidden layer perceptronm input is weighted sum of initial inputs and weights between input and hidden layer , so dot product is performed , so hidden_layer(4,1). hidden_output(4,1) is calculated by applying step function on this weighted sum. Input for output layer is final_output(1,1) , so final_output(1,1).Weight and bias update when prediction is incorrect by perceptron learning rule , transpose of matrices is       taken for correct matrix multiplication.\n",
    "- Prediction --> predict() function is used to predict values based on weight and bias and return final_output which is stored in y_pred.\\\n",
    "- Accuracy--> accuracy() function calculates the accuracy based on y and y_pred.\n",
    "- OUTPUT : we get correct predicted values for XOR boolen function [0 1 1 0] , Accuracy is 100%."
   ]
  },
  {
   "cell_type": "markdown",
   "id": "ff532d34-920c-4219-9740-1d7c5d53c848",
   "metadata": {},
   "source": [
    "My Comments (Limitations & Scope for Improvement)\n",
    "- MLP network learns XOR Boolean function  successfully . Accuracy achieved is 100%.\n",
    "- Activation function other than step function could be use dto train the model , for e.g. :sigmoid , tanh.\n",
    "- The model could be also trained using less number of neurons in the hidden layer by increasing the number of epochs , changing the learning rate , changing the activation function or increasing the number of hidden layers\n",
    "- I decreased the number of epochs from 10,000 to 10 , still model can be improved for less number of epochs\n",
    "- Updated W1 and b1 with error as W2.error."
   ]
  },
  {
   "cell_type": "code",
   "execution_count": null,
   "id": "1c6bba23-7e98-4a00-84ff-cdb21f1a675c",
   "metadata": {},
   "outputs": [],
   "source": []
  }
 ],
 "metadata": {
  "kernelspec": {
   "display_name": "Python 3 (ipykernel)",
   "language": "python",
   "name": "python3"
  },
  "language_info": {
   "codemirror_mode": {
    "name": "ipython",
    "version": 3
   },
   "file_extension": ".py",
   "mimetype": "text/x-python",
   "name": "python",
   "nbconvert_exporter": "python",
   "pygments_lexer": "ipython3",
   "version": "3.10.8"
  }
 },
 "nbformat": 4,
 "nbformat_minor": 5
}
